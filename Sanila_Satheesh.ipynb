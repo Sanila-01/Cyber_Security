{
  "nbformat": 4,
  "nbformat_minor": 0,
  "metadata": {
    "colab": {
      "name": "Sanila-PDA.ipynb",
      "provenance": [],
      "collapsed_sections": []
    },
    "kernelspec": {
      "name": "python3",
      "display_name": "Python 3"
    },
    "language_info": {
      "name": "python"
    }
  },
  "cells": [
    {
      "cell_type": "code",
      "metadata": {
        "colab": {
          "base_uri": "https://localhost:8080/"
        },
        "id": "WL1yYpt7_goS",
        "outputId": "fa935d99-8b53-4aec-c383-20fd505e5830"
      },
      "source": [
        "import requests\n",
        "from datetime import datetime\n",
        "\n",
        "api_key = '87d845b0b6cf29baa1a73cc34b067a95'\n",
        "location = input(\"Enter the city name: \")\n",
        "\n",
        "complete_api_link = \"https://api.openweathermap.org/data/2.5/weather?q=\"+location+\"&appid=\"+api_key\n",
        "api_link = requests.get(complete_api_link)\n",
        "api_data = api_link.json()\n",
        "\n",
        "temp_city = ((api_data['main']['temp']) - 273.15)\n",
        "weather_desc = api_data['weather'][0]['description']\n",
        "hmdt = api_data['main']['humidity']\n",
        "wind_spd = api_data['wind']['speed']\n",
        "date_time = datetime.now().strftime(\"%d %b %Y | %I:%M:%S %p\")\n",
        "\n",
        "f=open(\"WeatherDetails.txt\", \"w\")\n",
        "f.write (\"-------------------------------------------------------------\") \n",
        "dt='\\n'+\"Weather Stats for - {}  || {} \\n\".format(location.upper(), date_time)\n",
        "f.write(dt)\n",
        "f.write  (\"-------------------------------------------------------------\")\n",
        "c='\\n'+\"Current temperature is: {:.2f} deg C\".format(temp_city)\n",
        "f.write(c)  \n",
        "wd='\\n'+\"Current weather desc  :{}\".format(weather_desc)\n",
        "f.write(wd) \n",
        "h='\\n'+\"Current Humidity      :{} %\".format(hmdt)\n",
        "f.write(h) \n",
        "ws='\\n'+\"Current wind speed    :{} kmph\".format(wind_spd)\n",
        "f.write(ws)  \n",
        "f.close()"
      ],
      "execution_count": 14,
      "outputs": [
        {
          "output_type": "stream",
          "text": [
            "Enter the city name: kochi\n"
          ],
          "name": "stdout"
        }
      ]
    }
  ]
}